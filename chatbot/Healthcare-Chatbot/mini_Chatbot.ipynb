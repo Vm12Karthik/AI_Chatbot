{
 "cells": [
  {
   "cell_type": "markdown",
   "id": "b10cce3a-a249-4cea-9d34-57ea33b24082",
   "metadata": {},
   "source": [
    "## Build Your own Mini chatbot using OpenAI and Gradio"
   ]
  },
  {
   "cell_type": "markdown",
   "id": "7af838ec-08de-49a4-bf06-e1f4f808d92c",
   "metadata": {},
   "source": [
    "### 1. Install required modules"
   ]
  },
  {
   "cell_type": "code",
   "execution_count": null,
   "id": "94a6fcd8",
   "metadata": {},
   "outputs": [],
   "source": [
    "!pip install streamlit"
   ]
  },
  {
   "cell_type": "code",
   "execution_count": null,
   "id": "3dde2f8b-d86f-4146-9c62-ee921939d495",
   "metadata": {},
   "outputs": [],
   "source": [
    "!pip install openai -q\n",
    "!pip install gradio -q"
   ]
  },
  {
   "cell_type": "markdown",
   "id": "312c0960-ef3c-4550-94fb-847b0e529566",
   "metadata": {},
   "source": [
    "### 2. import required modules"
   ]
  },
  {
   "cell_type": "code",
   "execution_count": null,
   "id": "03c16d8b-3ecc-4812-ba71-795ca00414ec",
   "metadata": {},
   "outputs": [],
   "source": [
    "import openai\n",
    "import gradio as gr"
   ]
  },
  {
   "cell_type": "markdown",
   "id": "906cd8c3-a32b-4dda-a66d-46e6145c6ccd",
   "metadata": {},
   "source": [
    "### 3. Setup the OpenAI key"
   ]
  },
  {
   "cell_type": "code",
   "execution_count": null,
   "id": "ec2a7851-2891-4139-8424-bf4e31d6b0f8",
   "metadata": {},
   "outputs": [],
   "source": [
    "from config import open_api_key\n",
    "openai.api_key = open_api_key"
   ]
  },
  {
   "cell_type": "markdown",
   "id": "3f17ca71-5705-4a69-a837-c3e61661c137",
   "metadata": {},
   "source": [
    "### 4. Create a ChatBot using OpenAI `text-davinci-003` engine"
   ]
  },
  {
   "cell_type": "code",
   "execution_count": null,
   "id": "1cec0e66-3601-4b01-989b-a460a1b0f679",
   "metadata": {},
   "outputs": [],
   "source": [
    "def chatbot(text):\n",
    "    return openai.Completion.create(\n",
    "        engine=\"text-davinci-003\",\n",
    "        prompt=text,\n",
    "        max_tokens=1024,\n",
    "        n=1,\n",
    "        temperature=0.5,\n",
    "    ).choices[0].text.strip()"
   ]
  },
  {
   "cell_type": "markdown",
   "id": "eb1a8a51-13a4-4f49-823d-54fd3fd1549d",
   "metadata": {},
   "source": [
    "### 5. Create Gradio Interface"
   ]
  },
  {
   "cell_type": "code",
   "execution_count": null,
   "id": "f8031728-78b5-4fa2-bb27-b59e612c5bcf",
   "metadata": {},
   "outputs": [],
   "source": [
    "def gradio_interface(prompt, history=[]):\n",
    "    output = chatbot(prompt)\n",
    "    history.append((prompt, output))\n",
    "    return history, history\n",
    "\n",
    "gr.Interface(fn = gradio_interface,\n",
    "             inputs = [\"text\",'state'],\n",
    "             outputs = [\"chatbot\",'state']).launch(debug = False, share=True)"
   ]
  },
  {
   "cell_type": "code",
   "execution_count": null,
   "id": "51a16050-343b-4ebb-b4e4-a3b353b30b30",
   "metadata": {},
   "outputs": [],
   "source": []
  }
 ],
 "metadata": {
  "kernelspec": {
   "display_name": "Python 3 (ipykernel)",
   "language": "python",
   "name": "python3"
  }
 },
 "nbformat": 4,
 "nbformat_minor": 5
}
